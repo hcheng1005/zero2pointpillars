{
 "cells": [
  {
   "cell_type": "code",
   "execution_count": 1,
   "metadata": {},
   "outputs": [],
   "source": [
    "import torch"
   ]
  },
  {
   "cell_type": "code",
   "execution_count": 2,
   "metadata": {},
   "outputs": [
    {
     "name": "stdout",
     "output_type": "stream",
     "text": [
      "torch.Size([10])\n",
      "torch.Size([10, 1, 1])\n",
      "torch.Size([1, 10])\n"
     ]
    }
   ],
   "source": [
    "voxel_ids = torch.arange(0, 10)\n",
    "print(voxel_ids.shape)\n",
    "print(voxel_ids[:, None, None].shape)\n",
    "print(voxel_ids[None, :].shape)"
   ]
  },
  {
   "cell_type": "code",
   "execution_count": 7,
   "metadata": {},
   "outputs": [
    {
     "name": "stdout",
     "output_type": "stream",
     "text": [
      "tensor([[ 1.0365,  0.3905, -1.2539, -1.6479, -0.6429, -1.6476],\n",
      "        [-0.4283, -1.4024, -0.6467, -0.7114,  0.9381, -0.2706],\n",
      "        [-0.8729,  0.6905, -0.4428, -1.6551,  1.1333,  2.3888],\n",
      "        [ 0.9877, -0.6946, -0.0646, -1.4754,  0.4090,  0.3467],\n",
      "        [-0.9343,  1.1441,  1.4833, -0.4735, -0.6936, -1.6264],\n",
      "        [ 0.3553,  0.2171, -1.6461, -1.3843,  0.4671, -0.0641],\n",
      "        [ 0.8414,  0.1557, -0.1272,  1.4650,  0.2490,  1.7875],\n",
      "        [ 1.5504, -0.6283,  0.6168, -0.8507,  0.0860,  0.5486],\n",
      "        [ 0.0194,  1.2220, -0.5570,  1.3958,  0.4810, -1.4545],\n",
      "        [-1.1150,  1.7753, -0.1107,  0.6534,  1.5008,  1.0142]])\n",
      "tensor([1.0365, 0.9381, 2.3888, 0.9877, 1.4833, 0.4671, 1.7875, 1.5504, 1.3958,\n",
      "        1.7753])\n",
      "tensor([0, 4, 5, 0, 2, 4, 5, 0, 3, 1])\n"
     ]
    }
   ],
   "source": [
    "\n",
    "overlaps = torch.randn([10, 6])\n",
    "print(overlaps)\n",
    "max_overlaps, max_overlaps_idx = torch.max(overlaps, dim=1)\n",
    "print(max_overlaps)\n",
    "print(max_overlaps_idx)"
   ]
  }
 ],
 "metadata": {
  "kernelspec": {
   "display_name": "py38",
   "language": "python",
   "name": "python3"
  },
  "language_info": {
   "codemirror_mode": {
    "name": "ipython",
    "version": 3
   },
   "file_extension": ".py",
   "mimetype": "text/x-python",
   "name": "python",
   "nbconvert_exporter": "python",
   "pygments_lexer": "ipython3",
   "version": "3.8.18"
  },
  "orig_nbformat": 4
 },
 "nbformat": 4,
 "nbformat_minor": 2
}
